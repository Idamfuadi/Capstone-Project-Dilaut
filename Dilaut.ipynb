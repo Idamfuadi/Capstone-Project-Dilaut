{
  "nbformat": 4,
  "nbformat_minor": 0,
  "metadata": {
    "colab": {
      "name": "Dilaut.ipynb",
      "provenance": [],
      "include_colab_link": true
    },
    "kernelspec": {
      "name": "python3",
      "display_name": "Python 3"
    },
    "language_info": {
      "name": "python"
    }
  },
  "cells": [
    {
      "cell_type": "markdown",
      "metadata": {
        "id": "view-in-github",
        "colab_type": "text"
      },
      "source": [
        "<a href=\"https://colab.research.google.com/github/Idamfuadi/Capstone-Project-Dilaut/blob/ml/Dilaut.ipynb\" target=\"_parent\"><img src=\"https://colab.research.google.com/assets/colab-badge.svg\" alt=\"Open In Colab\"/></a>"
      ]
    },
    {
      "cell_type": "markdown",
      "metadata": {
        "id": "qbeRInOmtu7w"
      },
      "source": [
        "#Dilaut - Bangkit Capstone Project\n",
        "Lorem ipsum Lorem ipsum Lorem ipsum Lorem ipsum Lorem ipsum Lorem ipsum Lorem ipsum Lorem ipsum Lorem ipsum Lorem ipsum Lorem ipsum Lorem ipsum Lorem ipsum Lorem ipsum Lorem ipsum Lorem ipsum Lorem ipsum Lorem ipsum Lorem ipsum Lorem ipsum Lorem ipsum Lorem ipsum Lorem ipsum Lorem ipsum Lorem ipsum Lorem ipsum Lorem ipsum Lorem ipsum Lorem ipsum Lorem ipsum Lorem ipsum Lorem ipsum Lorem ipsum Lorem ipsum Lorem ipsum Lorem ipsum"
      ]
    },
    {
      "cell_type": "code",
      "metadata": {
        "id": "b7B6kln-sksF"
      },
      "source": [
        "import tensorflow as tf\n",
        "import numpy as np\n",
        "from tensorflow import keras\n",
        "\n",
        "import numpy as np\n",
        "import pandas as pd \n",
        "import time\n",
        "import math\n",
        "import matplotlib.pyplot as plt\n",
        "\n",
        "import keras\n",
        "from keras.models import Sequential\n",
        "from keras.layers import Dense, LSTM, Dropout\n",
        "from keras.preprocessing import sequence\n",
        "from keras.callbacks import EarlyStopping\n",
        "\n",
        "from sklearn.model_selection import train_test_split\n",
        "from sklearn.preprocessing import MinMaxScaler\n",
        "from sklearn.metrics import mean_squared_error, mean_absolute_error"
      ],
      "execution_count": null,
      "outputs": []
    },
    {
      "cell_type": "code",
      "metadata": {
        "colab": {
          "base_uri": "https://localhost:8080/",
          "height": 236
        },
        "id": "ufdUzeUi52nT",
        "outputId": "265fb15e-d89e-4efc-b88f-9b9d3a0892bd"
      },
      "source": [
        "#load dataset\n",
        "data=pd.read_csv('Dilaut Dataset.csv')\n",
        "data.head()"
      ],
      "execution_count": null,
      "outputs": [
        {
          "output_type": "execute_result",
          "data": {
            "text/html": [
              "<div>\n",
              "<style scoped>\n",
              "    .dataframe tbody tr th:only-of-type {\n",
              "        vertical-align: middle;\n",
              "    }\n",
              "\n",
              "    .dataframe tbody tr th {\n",
              "        vertical-align: top;\n",
              "    }\n",
              "\n",
              "    .dataframe thead th {\n",
              "        text-align: right;\n",
              "    }\n",
              "</style>\n",
              "<table border=\"1\" class=\"dataframe\">\n",
              "  <thead>\n",
              "    <tr style=\"text-align: right;\">\n",
              "      <th></th>\n",
              "      <th>Tanggal</th>\n",
              "      <th>Mas</th>\n",
              "      <th>Tawes</th>\n",
              "      <th>Udang Putih/Vaname</th>\n",
              "      <th>Bandeng</th>\n",
              "      <th>Kakap Putih</th>\n",
              "      <th>Mujair</th>\n",
              "      <th>Kerapu</th>\n",
              "      <th>Patin</th>\n",
              "      <th>Gurami</th>\n",
              "      <th>Lele</th>\n",
              "      <th>Udang Windu</th>\n",
              "      <th>Kepiting</th>\n",
              "      <th>Nila</th>\n",
              "    </tr>\n",
              "  </thead>\n",
              "  <tbody>\n",
              "    <tr>\n",
              "      <th>0</th>\n",
              "      <td>01/2016</td>\n",
              "      <td>9000</td>\n",
              "      <td>7500</td>\n",
              "      <td>60000</td>\n",
              "      <td>15000.0</td>\n",
              "      <td>35000</td>\n",
              "      <td>10000</td>\n",
              "      <td>NaN</td>\n",
              "      <td>20000</td>\n",
              "      <td>23500</td>\n",
              "      <td>15000</td>\n",
              "      <td>75000</td>\n",
              "      <td>50000.0</td>\n",
              "      <td>8500</td>\n",
              "    </tr>\n",
              "    <tr>\n",
              "      <th>1</th>\n",
              "      <td>02/2016</td>\n",
              "      <td>9500</td>\n",
              "      <td>7500</td>\n",
              "      <td>55000</td>\n",
              "      <td>15000.0</td>\n",
              "      <td>30000</td>\n",
              "      <td>11000</td>\n",
              "      <td>NaN</td>\n",
              "      <td>20000</td>\n",
              "      <td>23500</td>\n",
              "      <td>15500</td>\n",
              "      <td>75000</td>\n",
              "      <td>50000.0</td>\n",
              "      <td>8000</td>\n",
              "    </tr>\n",
              "    <tr>\n",
              "      <th>2</th>\n",
              "      <td>03/2016</td>\n",
              "      <td>9500</td>\n",
              "      <td>7500</td>\n",
              "      <td>55000</td>\n",
              "      <td>15000.0</td>\n",
              "      <td>35000</td>\n",
              "      <td>11000</td>\n",
              "      <td>NaN</td>\n",
              "      <td>20000</td>\n",
              "      <td>23500</td>\n",
              "      <td>15500</td>\n",
              "      <td>75000</td>\n",
              "      <td>55000.0</td>\n",
              "      <td>8000</td>\n",
              "    </tr>\n",
              "    <tr>\n",
              "      <th>3</th>\n",
              "      <td>04/2016</td>\n",
              "      <td>15000</td>\n",
              "      <td>7500</td>\n",
              "      <td>60000</td>\n",
              "      <td>15000.0</td>\n",
              "      <td>35000</td>\n",
              "      <td>17500</td>\n",
              "      <td>80000.0</td>\n",
              "      <td>17500</td>\n",
              "      <td>23500</td>\n",
              "      <td>14000</td>\n",
              "      <td>75000</td>\n",
              "      <td>50000.0</td>\n",
              "      <td>14000</td>\n",
              "    </tr>\n",
              "    <tr>\n",
              "      <th>4</th>\n",
              "      <td>05/2016</td>\n",
              "      <td>15000</td>\n",
              "      <td>7500</td>\n",
              "      <td>60000</td>\n",
              "      <td>15000.0</td>\n",
              "      <td>35000</td>\n",
              "      <td>17500</td>\n",
              "      <td>80000.0</td>\n",
              "      <td>20000</td>\n",
              "      <td>23500</td>\n",
              "      <td>16000</td>\n",
              "      <td>75000</td>\n",
              "      <td>50000.0</td>\n",
              "      <td>14000</td>\n",
              "    </tr>\n",
              "  </tbody>\n",
              "</table>\n",
              "</div>"
            ],
            "text/plain": [
              "   Tanggal    Mas  Tawes  ...  Udang Windu  Kepiting   Nila\n",
              "0  01/2016   9000   7500  ...        75000   50000.0   8500\n",
              "1  02/2016   9500   7500  ...        75000   50000.0   8000\n",
              "2  03/2016   9500   7500  ...        75000   55000.0   8000\n",
              "3  04/2016  15000   7500  ...        75000   50000.0  14000\n",
              "4  05/2016  15000   7500  ...        75000   50000.0  14000\n",
              "\n",
              "[5 rows x 14 columns]"
            ]
          },
          "metadata": {
            "tags": []
          },
          "execution_count": 2
        }
      ]
    },
    {
      "cell_type": "code",
      "metadata": {
        "colab": {
          "base_uri": "https://localhost:8080/",
          "height": 236
        },
        "id": "4PMz9rPE6Fvy",
        "outputId": "d6b9a711-0357-4a58-ebef-7b2caa36365f"
      },
      "source": [
        "#filling NaN data\n",
        "median = data.median()\n",
        "data.fillna(median, inplace=True)\n",
        "data.head()"
      ],
      "execution_count": null,
      "outputs": [
        {
          "output_type": "execute_result",
          "data": {
            "text/html": [
              "<div>\n",
              "<style scoped>\n",
              "    .dataframe tbody tr th:only-of-type {\n",
              "        vertical-align: middle;\n",
              "    }\n",
              "\n",
              "    .dataframe tbody tr th {\n",
              "        vertical-align: top;\n",
              "    }\n",
              "\n",
              "    .dataframe thead th {\n",
              "        text-align: right;\n",
              "    }\n",
              "</style>\n",
              "<table border=\"1\" class=\"dataframe\">\n",
              "  <thead>\n",
              "    <tr style=\"text-align: right;\">\n",
              "      <th></th>\n",
              "      <th>Tanggal</th>\n",
              "      <th>Mas</th>\n",
              "      <th>Tawes</th>\n",
              "      <th>Udang Putih/Vaname</th>\n",
              "      <th>Bandeng</th>\n",
              "      <th>Kakap Putih</th>\n",
              "      <th>Mujair</th>\n",
              "      <th>Kerapu</th>\n",
              "      <th>Patin</th>\n",
              "      <th>Gurami</th>\n",
              "      <th>Lele</th>\n",
              "      <th>Udang Windu</th>\n",
              "      <th>Kepiting</th>\n",
              "      <th>Nila</th>\n",
              "    </tr>\n",
              "  </thead>\n",
              "  <tbody>\n",
              "    <tr>\n",
              "      <th>0</th>\n",
              "      <td>01/2016</td>\n",
              "      <td>9000</td>\n",
              "      <td>7500</td>\n",
              "      <td>60000</td>\n",
              "      <td>15000.0</td>\n",
              "      <td>35000</td>\n",
              "      <td>10000</td>\n",
              "      <td>82000.0</td>\n",
              "      <td>20000</td>\n",
              "      <td>23500</td>\n",
              "      <td>15000</td>\n",
              "      <td>75000</td>\n",
              "      <td>50000.0</td>\n",
              "      <td>8500</td>\n",
              "    </tr>\n",
              "    <tr>\n",
              "      <th>1</th>\n",
              "      <td>02/2016</td>\n",
              "      <td>9500</td>\n",
              "      <td>7500</td>\n",
              "      <td>55000</td>\n",
              "      <td>15000.0</td>\n",
              "      <td>30000</td>\n",
              "      <td>11000</td>\n",
              "      <td>82000.0</td>\n",
              "      <td>20000</td>\n",
              "      <td>23500</td>\n",
              "      <td>15500</td>\n",
              "      <td>75000</td>\n",
              "      <td>50000.0</td>\n",
              "      <td>8000</td>\n",
              "    </tr>\n",
              "    <tr>\n",
              "      <th>2</th>\n",
              "      <td>03/2016</td>\n",
              "      <td>9500</td>\n",
              "      <td>7500</td>\n",
              "      <td>55000</td>\n",
              "      <td>15000.0</td>\n",
              "      <td>35000</td>\n",
              "      <td>11000</td>\n",
              "      <td>82000.0</td>\n",
              "      <td>20000</td>\n",
              "      <td>23500</td>\n",
              "      <td>15500</td>\n",
              "      <td>75000</td>\n",
              "      <td>55000.0</td>\n",
              "      <td>8000</td>\n",
              "    </tr>\n",
              "    <tr>\n",
              "      <th>3</th>\n",
              "      <td>04/2016</td>\n",
              "      <td>15000</td>\n",
              "      <td>7500</td>\n",
              "      <td>60000</td>\n",
              "      <td>15000.0</td>\n",
              "      <td>35000</td>\n",
              "      <td>17500</td>\n",
              "      <td>80000.0</td>\n",
              "      <td>17500</td>\n",
              "      <td>23500</td>\n",
              "      <td>14000</td>\n",
              "      <td>75000</td>\n",
              "      <td>50000.0</td>\n",
              "      <td>14000</td>\n",
              "    </tr>\n",
              "    <tr>\n",
              "      <th>4</th>\n",
              "      <td>05/2016</td>\n",
              "      <td>15000</td>\n",
              "      <td>7500</td>\n",
              "      <td>60000</td>\n",
              "      <td>15000.0</td>\n",
              "      <td>35000</td>\n",
              "      <td>17500</td>\n",
              "      <td>80000.0</td>\n",
              "      <td>20000</td>\n",
              "      <td>23500</td>\n",
              "      <td>16000</td>\n",
              "      <td>75000</td>\n",
              "      <td>50000.0</td>\n",
              "      <td>14000</td>\n",
              "    </tr>\n",
              "  </tbody>\n",
              "</table>\n",
              "</div>"
            ],
            "text/plain": [
              "   Tanggal    Mas  Tawes  ...  Udang Windu  Kepiting   Nila\n",
              "0  01/2016   9000   7500  ...        75000   50000.0   8500\n",
              "1  02/2016   9500   7500  ...        75000   50000.0   8000\n",
              "2  03/2016   9500   7500  ...        75000   55000.0   8000\n",
              "3  04/2016  15000   7500  ...        75000   50000.0  14000\n",
              "4  05/2016  15000   7500  ...        75000   50000.0  14000\n",
              "\n",
              "[5 rows x 14 columns]"
            ]
          },
          "metadata": {
            "tags": []
          },
          "execution_count": 3
        }
      ]
    },
    {
      "cell_type": "code",
      "metadata": {
        "colab": {
          "base_uri": "https://localhost:8080/"
        },
        "id": "v2w4u-0v6MGa",
        "outputId": "531db7c5-a978-4ae9-8fb0-ae2ddd00c54c"
      },
      "source": [
        "#get the number of rows to train the model on\n",
        "df = data.iloc[:, 2:16].values\n",
        "training_data_len = math.ceil(len(df) * .8)\n",
        "\n",
        "training_data_len"
      ],
      "execution_count": null,
      "outputs": [
        {
          "output_type": "execute_result",
          "data": {
            "text/plain": [
              "48"
            ]
          },
          "metadata": {
            "tags": []
          },
          "execution_count": 4
        }
      ]
    },
    {
      "cell_type": "code",
      "metadata": {
        "id": "4DozzuXW6Olq"
      },
      "source": [
        "#scale the data\n",
        "scaler = MinMaxScaler(feature_range=(0,1))\n",
        "scaled_data = scaler.fit_transform(df)\n",
        "scaled_data"
      ],
      "execution_count": null,
      "outputs": []
    },
    {
      "cell_type": "code",
      "metadata": {
        "colab": {
          "base_uri": "https://localhost:8080/",
          "height": 67
        },
        "id": "qNz5McD26XRS",
        "outputId": "c18b8d16-daaa-4cd7-c383-efb3f420d37b"
      },
      "source": [
        "#create the trainig data set\n",
        "train_data = scaled_data[0:training_data_len, :]\n",
        "#split the data into X_train and y_train dataset\n",
        "X_train = []\n",
        "y_train = []\n",
        "'''\n",
        "for i in range(9, len(train_data)):\n",
        "  X_train.append(train_data[i-9:i, 0])\n",
        "  y_train.append(train_data[i, 0])\n",
        "  if i <= 9:\n",
        "    print(X_train)\n",
        "    print(y_train)\n",
        "    print()\n",
        "'''"
      ],
      "execution_count": null,
      "outputs": [
        {
          "output_type": "execute_result",
          "data": {
            "application/vnd.google.colaboratory.intrinsic+json": {
              "type": "string"
            },
            "text/plain": [
              "'\\nfor i in range(9, len(train_data)):\\n  X_train.append(train_data[i-9:i, 0])\\n  y_train.append(train_data[i, 0])\\n  if i <= 9:\\n    print(X_train)\\n    print(y_train)\\n    print()\\n'"
            ]
          },
          "metadata": {
            "tags": []
          },
          "execution_count": 6
        }
      ]
    },
    {
      "cell_type": "code",
      "metadata": {
        "id": "ceRBV0Oj6a_5"
      },
      "source": [
        "#convert the X_train and y_train to numpy arrays\n",
        "X_train, y_train = np.array(X_train), np.array(y_train)"
      ],
      "execution_count": null,
      "outputs": []
    },
    {
      "cell_type": "code",
      "metadata": {
        "id": "JRQ9wTjQ7HIK"
      },
      "source": [
        ""
      ],
      "execution_count": null,
      "outputs": []
    },
    {
      "cell_type": "code",
      "metadata": {
        "id": "XlYNNtcD7G8R"
      },
      "source": [
        ""
      ],
      "execution_count": null,
      "outputs": []
    },
    {
      "cell_type": "code",
      "metadata": {
        "id": "CHwipYmf67Di"
      },
      "source": [
        "model = Sequential()\n",
        "model.add(LSTM(14, activation='relu',input_shape =(1,8)))\n",
        "model.add(LSTM(20, dropout= 0.8, use_bias= True))\n",
        "model.add(Dense(13, activation='sigmoid'))\n",
        "model.compile(loss='mean_squared_error', optimizer='Adam',  metrics=['Precision'])\n",
        "print(model.summary())"
      ],
      "execution_count": null,
      "outputs": []
    }
  ]
}